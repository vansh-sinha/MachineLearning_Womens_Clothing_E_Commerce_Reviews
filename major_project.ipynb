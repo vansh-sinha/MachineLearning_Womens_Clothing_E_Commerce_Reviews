{
  "nbformat": 4,
  "nbformat_minor": 0,
  "metadata": {
    "colab": {
      "name": "major_project.ipynb",
      "provenance": []
    },
    "kernelspec": {
      "display_name": "Python 3",
      "language": "python",
      "name": "python3"
    },
    "language_info": {
      "codemirror_mode": {
        "name": "ipython",
        "version": 3
      },
      "file_extension": ".py",
      "mimetype": "text/x-python",
      "name": "python",
      "nbconvert_exporter": "python",
      "pygments_lexer": "ipython3",
      "version": "3.7.6"
    }
  },
  "cells": [
    {
      "cell_type": "code",
      "metadata": {
        "id": "iSfq0dt4XQN0"
      },
      "source": [
        "import pandas as pd\n",
        "import matplotlib.pyplot as plt\n",
        "import seaborn as sns\n",
        "import numpy as np\n",
        "import string\n",
        "import os"
      ],
      "execution_count": null,
      "outputs": []
    },
    {
      "cell_type": "code",
      "metadata": {
        "id": "NX0SSokJXQN6"
      },
      "source": [
        "Edata=pd.read_csv(r'/Users/vivekbhadula/Downloads/Womens_Clothing_E_Commerce_Reviews.csv')"
      ],
      "execution_count": null,
      "outputs": []
    },
    {
      "cell_type": "code",
      "metadata": {
        "colab": {
          "base_uri": "https://localhost:8080/",
          "height": 289
        },
        "id": "CF7c1wWv3aHs",
        "outputId": "f1cdcde7-0b67-4b3b-b731-63fad886a505"
      },
      "source": [
        "Edata.head()"
      ],
      "execution_count": null,
      "outputs": [
        {
          "output_type": "execute_result",
          "data": {
            "text/html": [
              "<div>\n",
              "<style scoped>\n",
              "    .dataframe tbody tr th:only-of-type {\n",
              "        vertical-align: middle;\n",
              "    }\n",
              "\n",
              "    .dataframe tbody tr th {\n",
              "        vertical-align: top;\n",
              "    }\n",
              "\n",
              "    .dataframe thead th {\n",
              "        text-align: right;\n",
              "    }\n",
              "</style>\n",
              "<table border=\"1\" class=\"dataframe\">\n",
              "  <thead>\n",
              "    <tr style=\"text-align: right;\">\n",
              "      <th></th>\n",
              "      <th>Unnamed: 0</th>\n",
              "      <th>Clothing ID</th>\n",
              "      <th>Age</th>\n",
              "      <th>Title</th>\n",
              "      <th>Review Text</th>\n",
              "      <th>Rating</th>\n",
              "      <th>Recommended IND</th>\n",
              "      <th>Positive Feedback Count</th>\n",
              "      <th>Division Name</th>\n",
              "      <th>Department Name</th>\n",
              "      <th>Class Name</th>\n",
              "    </tr>\n",
              "  </thead>\n",
              "  <tbody>\n",
              "    <tr>\n",
              "      <th>0</th>\n",
              "      <td>0</td>\n",
              "      <td>767</td>\n",
              "      <td>33</td>\n",
              "      <td>NaN</td>\n",
              "      <td>Absolutely wonderful - silky and sexy and comf...</td>\n",
              "      <td>4</td>\n",
              "      <td>1</td>\n",
              "      <td>0</td>\n",
              "      <td>Initmates</td>\n",
              "      <td>Intimate</td>\n",
              "      <td>Intimates</td>\n",
              "    </tr>\n",
              "    <tr>\n",
              "      <th>1</th>\n",
              "      <td>1</td>\n",
              "      <td>1080</td>\n",
              "      <td>34</td>\n",
              "      <td>NaN</td>\n",
              "      <td>Love this dress!  it's sooo pretty.  i happene...</td>\n",
              "      <td>5</td>\n",
              "      <td>1</td>\n",
              "      <td>4</td>\n",
              "      <td>General</td>\n",
              "      <td>Dresses</td>\n",
              "      <td>Dresses</td>\n",
              "    </tr>\n",
              "    <tr>\n",
              "      <th>2</th>\n",
              "      <td>2</td>\n",
              "      <td>1077</td>\n",
              "      <td>60</td>\n",
              "      <td>Some major design flaws</td>\n",
              "      <td>I had such high hopes for this dress and reall...</td>\n",
              "      <td>3</td>\n",
              "      <td>0</td>\n",
              "      <td>0</td>\n",
              "      <td>General</td>\n",
              "      <td>Dresses</td>\n",
              "      <td>Dresses</td>\n",
              "    </tr>\n",
              "    <tr>\n",
              "      <th>3</th>\n",
              "      <td>3</td>\n",
              "      <td>1049</td>\n",
              "      <td>50</td>\n",
              "      <td>My favorite buy!</td>\n",
              "      <td>I love, love, love this jumpsuit. it's fun, fl...</td>\n",
              "      <td>5</td>\n",
              "      <td>1</td>\n",
              "      <td>0</td>\n",
              "      <td>General Petite</td>\n",
              "      <td>Bottoms</td>\n",
              "      <td>Pants</td>\n",
              "    </tr>\n",
              "    <tr>\n",
              "      <th>4</th>\n",
              "      <td>4</td>\n",
              "      <td>847</td>\n",
              "      <td>47</td>\n",
              "      <td>Flattering shirt</td>\n",
              "      <td>This shirt is very flattering to all due to th...</td>\n",
              "      <td>5</td>\n",
              "      <td>1</td>\n",
              "      <td>6</td>\n",
              "      <td>General</td>\n",
              "      <td>Tops</td>\n",
              "      <td>Blouses</td>\n",
              "    </tr>\n",
              "  </tbody>\n",
              "</table>\n",
              "</div>"
            ],
            "text/plain": [
              "   Unnamed: 0  Clothing ID  Age                    Title  \\\n",
              "0           0          767   33                      NaN   \n",
              "1           1         1080   34                      NaN   \n",
              "2           2         1077   60  Some major design flaws   \n",
              "3           3         1049   50         My favorite buy!   \n",
              "4           4          847   47         Flattering shirt   \n",
              "\n",
              "                                         Review Text  Rating  Recommended IND  \\\n",
              "0  Absolutely wonderful - silky and sexy and comf...       4                1   \n",
              "1  Love this dress!  it's sooo pretty.  i happene...       5                1   \n",
              "2  I had such high hopes for this dress and reall...       3                0   \n",
              "3  I love, love, love this jumpsuit. it's fun, fl...       5                1   \n",
              "4  This shirt is very flattering to all due to th...       5                1   \n",
              "\n",
              "   Positive Feedback Count   Division Name Department Name Class Name  \n",
              "0                        0       Initmates        Intimate  Intimates  \n",
              "1                        4         General         Dresses    Dresses  \n",
              "2                        0         General         Dresses    Dresses  \n",
              "3                        0  General Petite         Bottoms      Pants  \n",
              "4                        6         General            Tops    Blouses  "
            ]
          },
          "metadata": {
            "tags": []
          },
          "execution_count": 3
        }
      ]
    },
    {
      "cell_type": "code",
      "metadata": {
        "colab": {
          "base_uri": "https://localhost:8080/",
          "height": 85
        },
        "id": "mX0lA-4MXQN-",
        "outputId": "f2fef0aa-f254-467f-c94c-8d7bd4c76903"
      },
      "source": [
        "Edata.columns"
      ],
      "execution_count": null,
      "outputs": [
        {
          "output_type": "execute_result",
          "data": {
            "text/plain": [
              "Index(['Unnamed: 0', 'Clothing ID', 'Age', 'Title', 'Review Text', 'Rating',\n",
              "       'Recommended IND', 'Positive Feedback Count', 'Division Name',\n",
              "       'Department Name', 'Class Name'],\n",
              "      dtype='object')"
            ]
          },
          "metadata": {
            "tags": []
          },
          "execution_count": 4
        }
      ]
    },
    {
      "cell_type": "code",
      "metadata": {
        "id": "Orayk6jFSrIS"
      },
      "source": [
        "Edata = Edata.drop('Unnamed: 0',axis=1)"
      ],
      "execution_count": null,
      "outputs": []
    },
    {
      "cell_type": "code",
      "metadata": {
        "id": "n2iXtPSaXQOM"
      },
      "source": [
        "Edata.columns=['Clothing_Id','Age','Title','Review_Text','Rating','Recommended_IND','Positive_Feedback_Count','Division_Name','Department_Name','Class_Name']"
      ],
      "execution_count": null,
      "outputs": []
    },
    {
      "cell_type": "code",
      "metadata": {
        "colab": {
          "base_uri": "https://localhost:8080/",
          "height": 255
        },
        "id": "xI0xTA77XQOQ",
        "outputId": "fd227600-f37e-430e-e6e9-0cdd2ca87ae8"
      },
      "source": [
        "Edata.head()"
      ],
      "execution_count": null,
      "outputs": [
        {
          "output_type": "execute_result",
          "data": {
            "text/html": [
              "<div>\n",
              "<style scoped>\n",
              "    .dataframe tbody tr th:only-of-type {\n",
              "        vertical-align: middle;\n",
              "    }\n",
              "\n",
              "    .dataframe tbody tr th {\n",
              "        vertical-align: top;\n",
              "    }\n",
              "\n",
              "    .dataframe thead th {\n",
              "        text-align: right;\n",
              "    }\n",
              "</style>\n",
              "<table border=\"1\" class=\"dataframe\">\n",
              "  <thead>\n",
              "    <tr style=\"text-align: right;\">\n",
              "      <th></th>\n",
              "      <th>Clothing_Id</th>\n",
              "      <th>Age</th>\n",
              "      <th>Title</th>\n",
              "      <th>Review_Text</th>\n",
              "      <th>Rating</th>\n",
              "      <th>Recommended_IND</th>\n",
              "      <th>Positive_Feedback_Count</th>\n",
              "      <th>Division_Name</th>\n",
              "      <th>Department_Name</th>\n",
              "      <th>Class_Name</th>\n",
              "    </tr>\n",
              "  </thead>\n",
              "  <tbody>\n",
              "    <tr>\n",
              "      <th>0</th>\n",
              "      <td>767</td>\n",
              "      <td>33</td>\n",
              "      <td>NaN</td>\n",
              "      <td>Absolutely wonderful - silky and sexy and comf...</td>\n",
              "      <td>4</td>\n",
              "      <td>1</td>\n",
              "      <td>0</td>\n",
              "      <td>Initmates</td>\n",
              "      <td>Intimate</td>\n",
              "      <td>Intimates</td>\n",
              "    </tr>\n",
              "    <tr>\n",
              "      <th>1</th>\n",
              "      <td>1080</td>\n",
              "      <td>34</td>\n",
              "      <td>NaN</td>\n",
              "      <td>Love this dress!  it's sooo pretty.  i happene...</td>\n",
              "      <td>5</td>\n",
              "      <td>1</td>\n",
              "      <td>4</td>\n",
              "      <td>General</td>\n",
              "      <td>Dresses</td>\n",
              "      <td>Dresses</td>\n",
              "    </tr>\n",
              "    <tr>\n",
              "      <th>2</th>\n",
              "      <td>1077</td>\n",
              "      <td>60</td>\n",
              "      <td>Some major design flaws</td>\n",
              "      <td>I had such high hopes for this dress and reall...</td>\n",
              "      <td>3</td>\n",
              "      <td>0</td>\n",
              "      <td>0</td>\n",
              "      <td>General</td>\n",
              "      <td>Dresses</td>\n",
              "      <td>Dresses</td>\n",
              "    </tr>\n",
              "    <tr>\n",
              "      <th>3</th>\n",
              "      <td>1049</td>\n",
              "      <td>50</td>\n",
              "      <td>My favorite buy!</td>\n",
              "      <td>I love, love, love this jumpsuit. it's fun, fl...</td>\n",
              "      <td>5</td>\n",
              "      <td>1</td>\n",
              "      <td>0</td>\n",
              "      <td>General Petite</td>\n",
              "      <td>Bottoms</td>\n",
              "      <td>Pants</td>\n",
              "    </tr>\n",
              "    <tr>\n",
              "      <th>4</th>\n",
              "      <td>847</td>\n",
              "      <td>47</td>\n",
              "      <td>Flattering shirt</td>\n",
              "      <td>This shirt is very flattering to all due to th...</td>\n",
              "      <td>5</td>\n",
              "      <td>1</td>\n",
              "      <td>6</td>\n",
              "      <td>General</td>\n",
              "      <td>Tops</td>\n",
              "      <td>Blouses</td>\n",
              "    </tr>\n",
              "  </tbody>\n",
              "</table>\n",
              "</div>"
            ],
            "text/plain": [
              "   Clothing_Id  Age                    Title  \\\n",
              "0          767   33                      NaN   \n",
              "1         1080   34                      NaN   \n",
              "2         1077   60  Some major design flaws   \n",
              "3         1049   50         My favorite buy!   \n",
              "4          847   47         Flattering shirt   \n",
              "\n",
              "                                         Review_Text  Rating  Recommended_IND  \\\n",
              "0  Absolutely wonderful - silky and sexy and comf...       4                1   \n",
              "1  Love this dress!  it's sooo pretty.  i happene...       5                1   \n",
              "2  I had such high hopes for this dress and reall...       3                0   \n",
              "3  I love, love, love this jumpsuit. it's fun, fl...       5                1   \n",
              "4  This shirt is very flattering to all due to th...       5                1   \n",
              "\n",
              "   Positive_Feedback_Count   Division_Name Department_Name Class_Name  \n",
              "0                        0       Initmates        Intimate  Intimates  \n",
              "1                        4         General         Dresses    Dresses  \n",
              "2                        0         General         Dresses    Dresses  \n",
              "3                        0  General Petite         Bottoms      Pants  \n",
              "4                        6         General            Tops    Blouses  "
            ]
          },
          "metadata": {
            "tags": []
          },
          "execution_count": 7
        }
      ]
    },
    {
      "cell_type": "code",
      "metadata": {
        "colab": {
          "base_uri": "https://localhost:8080/",
          "height": 204
        },
        "id": "eb_jFhuVXQOV",
        "outputId": "3964ba53-114d-4eb5-9dc5-ae799f7041d4"
      },
      "source": [
        "Edata.dtypes"
      ],
      "execution_count": null,
      "outputs": [
        {
          "output_type": "execute_result",
          "data": {
            "text/plain": [
              "Clothing_Id                 int64\n",
              "Age                         int64\n",
              "Title                      object\n",
              "Review_Text                object\n",
              "Rating                      int64\n",
              "Recommended_IND             int64\n",
              "Positive_Feedback_Count     int64\n",
              "Division_Name              object\n",
              "Department_Name            object\n",
              "Class_Name                 object\n",
              "dtype: object"
            ]
          },
          "metadata": {
            "tags": []
          },
          "execution_count": 8
        }
      ]
    },
    {
      "cell_type": "code",
      "metadata": {
        "colab": {
          "base_uri": "https://localhost:8080/",
          "height": 297
        },
        "id": "-LAAU6kzXQOZ",
        "outputId": "134318d6-4538-4b46-b44c-9981a5d8e05a"
      },
      "source": [
        "Edata.describe()"
      ],
      "execution_count": null,
      "outputs": [
        {
          "output_type": "execute_result",
          "data": {
            "text/html": [
              "<div>\n",
              "<style scoped>\n",
              "    .dataframe tbody tr th:only-of-type {\n",
              "        vertical-align: middle;\n",
              "    }\n",
              "\n",
              "    .dataframe tbody tr th {\n",
              "        vertical-align: top;\n",
              "    }\n",
              "\n",
              "    .dataframe thead th {\n",
              "        text-align: right;\n",
              "    }\n",
              "</style>\n",
              "<table border=\"1\" class=\"dataframe\">\n",
              "  <thead>\n",
              "    <tr style=\"text-align: right;\">\n",
              "      <th></th>\n",
              "      <th>Clothing_Id</th>\n",
              "      <th>Age</th>\n",
              "      <th>Rating</th>\n",
              "      <th>Recommended_IND</th>\n",
              "      <th>Positive_Feedback_Count</th>\n",
              "    </tr>\n",
              "  </thead>\n",
              "  <tbody>\n",
              "    <tr>\n",
              "      <th>count</th>\n",
              "      <td>23486.000000</td>\n",
              "      <td>23486.000000</td>\n",
              "      <td>23486.000000</td>\n",
              "      <td>23486.000000</td>\n",
              "      <td>23486.000000</td>\n",
              "    </tr>\n",
              "    <tr>\n",
              "      <th>mean</th>\n",
              "      <td>918.118709</td>\n",
              "      <td>43.198544</td>\n",
              "      <td>4.196032</td>\n",
              "      <td>0.822362</td>\n",
              "      <td>2.535936</td>\n",
              "    </tr>\n",
              "    <tr>\n",
              "      <th>std</th>\n",
              "      <td>203.298980</td>\n",
              "      <td>12.279544</td>\n",
              "      <td>1.110031</td>\n",
              "      <td>0.382216</td>\n",
              "      <td>5.702202</td>\n",
              "    </tr>\n",
              "    <tr>\n",
              "      <th>min</th>\n",
              "      <td>0.000000</td>\n",
              "      <td>18.000000</td>\n",
              "      <td>1.000000</td>\n",
              "      <td>0.000000</td>\n",
              "      <td>0.000000</td>\n",
              "    </tr>\n",
              "    <tr>\n",
              "      <th>25%</th>\n",
              "      <td>861.000000</td>\n",
              "      <td>34.000000</td>\n",
              "      <td>4.000000</td>\n",
              "      <td>1.000000</td>\n",
              "      <td>0.000000</td>\n",
              "    </tr>\n",
              "    <tr>\n",
              "      <th>50%</th>\n",
              "      <td>936.000000</td>\n",
              "      <td>41.000000</td>\n",
              "      <td>5.000000</td>\n",
              "      <td>1.000000</td>\n",
              "      <td>1.000000</td>\n",
              "    </tr>\n",
              "    <tr>\n",
              "      <th>75%</th>\n",
              "      <td>1078.000000</td>\n",
              "      <td>52.000000</td>\n",
              "      <td>5.000000</td>\n",
              "      <td>1.000000</td>\n",
              "      <td>3.000000</td>\n",
              "    </tr>\n",
              "    <tr>\n",
              "      <th>max</th>\n",
              "      <td>1205.000000</td>\n",
              "      <td>99.000000</td>\n",
              "      <td>5.000000</td>\n",
              "      <td>1.000000</td>\n",
              "      <td>122.000000</td>\n",
              "    </tr>\n",
              "  </tbody>\n",
              "</table>\n",
              "</div>"
            ],
            "text/plain": [
              "        Clothing_Id           Age        Rating  Recommended_IND  \\\n",
              "count  23486.000000  23486.000000  23486.000000     23486.000000   \n",
              "mean     918.118709     43.198544      4.196032         0.822362   \n",
              "std      203.298980     12.279544      1.110031         0.382216   \n",
              "min        0.000000     18.000000      1.000000         0.000000   \n",
              "25%      861.000000     34.000000      4.000000         1.000000   \n",
              "50%      936.000000     41.000000      5.000000         1.000000   \n",
              "75%     1078.000000     52.000000      5.000000         1.000000   \n",
              "max     1205.000000     99.000000      5.000000         1.000000   \n",
              "\n",
              "       Positive_Feedback_Count  \n",
              "count             23486.000000  \n",
              "mean                  2.535936  \n",
              "std                   5.702202  \n",
              "min                   0.000000  \n",
              "25%                   0.000000  \n",
              "50%                   1.000000  \n",
              "75%                   3.000000  \n",
              "max                 122.000000  "
            ]
          },
          "metadata": {
            "tags": []
          },
          "execution_count": 9
        }
      ]
    },
    {
      "cell_type": "code",
      "metadata": {
        "colab": {
          "base_uri": "https://localhost:8080/",
          "height": 102
        },
        "id": "iuidZmvGXQOc",
        "outputId": "99c58c85-399a-421a-bc19-3f3e36a5dc4b"
      },
      "source": [
        "for i in Edata.columns[Edata.isna().any()].tolist():\n",
        "    print(i,'has',Edata[Edata[i].isna()==True].shape[0],'Null Values')"
      ],
      "execution_count": null,
      "outputs": [
        {
          "output_type": "stream",
          "text": [
            "Title has 3810 Null Values\n",
            "Review_Text has 845 Null Values\n",
            "Division_Name has 14 Null Values\n",
            "Department_Name has 14 Null Values\n",
            "Class_Name has 14 Null Values\n"
          ],
          "name": "stdout"
        }
      ]
    },
    {
      "cell_type": "code",
      "metadata": {
        "id": "MAJ-1gugXQOg"
      },
      "source": [
        "Edata['class']=\"bad\"\n",
        "Edata.loc[Edata.Rating>3,['class']]='good'"
      ],
      "execution_count": null,
      "outputs": []
    },
    {
      "cell_type": "code",
      "metadata": {
        "id": "gJVWZ2_CXQOi"
      },
      "source": [
        "def ret_rating(rating):\n",
        "    if rating>3:\n",
        "        return 'good'\n",
        "    else:\n",
        "        return 'bad'"
      ],
      "execution_count": null,
      "outputs": []
    },
    {
      "cell_type": "code",
      "metadata": {
        "colab": {
          "base_uri": "https://localhost:8080/",
          "height": 289
        },
        "id": "RT8TjO2GXQOk",
        "outputId": "da2cb507-3cbb-4fb9-906d-6f9f3b6e40e6"
      },
      "source": [
        "Edata.head()"
      ],
      "execution_count": null,
      "outputs": [
        {
          "output_type": "execute_result",
          "data": {
            "text/html": [
              "<div>\n",
              "<style scoped>\n",
              "    .dataframe tbody tr th:only-of-type {\n",
              "        vertical-align: middle;\n",
              "    }\n",
              "\n",
              "    .dataframe tbody tr th {\n",
              "        vertical-align: top;\n",
              "    }\n",
              "\n",
              "    .dataframe thead th {\n",
              "        text-align: right;\n",
              "    }\n",
              "</style>\n",
              "<table border=\"1\" class=\"dataframe\">\n",
              "  <thead>\n",
              "    <tr style=\"text-align: right;\">\n",
              "      <th></th>\n",
              "      <th>Clothing_Id</th>\n",
              "      <th>Age</th>\n",
              "      <th>Title</th>\n",
              "      <th>Review_Text</th>\n",
              "      <th>Rating</th>\n",
              "      <th>Recommended_IND</th>\n",
              "      <th>Positive_Feedback_Count</th>\n",
              "      <th>Division_Name</th>\n",
              "      <th>Department_Name</th>\n",
              "      <th>Class_Name</th>\n",
              "      <th>class</th>\n",
              "    </tr>\n",
              "  </thead>\n",
              "  <tbody>\n",
              "    <tr>\n",
              "      <th>0</th>\n",
              "      <td>767</td>\n",
              "      <td>33</td>\n",
              "      <td>NaN</td>\n",
              "      <td>Absolutely wonderful - silky and sexy and comf...</td>\n",
              "      <td>4</td>\n",
              "      <td>1</td>\n",
              "      <td>0</td>\n",
              "      <td>Initmates</td>\n",
              "      <td>Intimate</td>\n",
              "      <td>Intimates</td>\n",
              "      <td>good</td>\n",
              "    </tr>\n",
              "    <tr>\n",
              "      <th>1</th>\n",
              "      <td>1080</td>\n",
              "      <td>34</td>\n",
              "      <td>NaN</td>\n",
              "      <td>Love this dress!  it's sooo pretty.  i happene...</td>\n",
              "      <td>5</td>\n",
              "      <td>1</td>\n",
              "      <td>4</td>\n",
              "      <td>General</td>\n",
              "      <td>Dresses</td>\n",
              "      <td>Dresses</td>\n",
              "      <td>good</td>\n",
              "    </tr>\n",
              "    <tr>\n",
              "      <th>2</th>\n",
              "      <td>1077</td>\n",
              "      <td>60</td>\n",
              "      <td>Some major design flaws</td>\n",
              "      <td>I had such high hopes for this dress and reall...</td>\n",
              "      <td>3</td>\n",
              "      <td>0</td>\n",
              "      <td>0</td>\n",
              "      <td>General</td>\n",
              "      <td>Dresses</td>\n",
              "      <td>Dresses</td>\n",
              "      <td>bad</td>\n",
              "    </tr>\n",
              "    <tr>\n",
              "      <th>3</th>\n",
              "      <td>1049</td>\n",
              "      <td>50</td>\n",
              "      <td>My favorite buy!</td>\n",
              "      <td>I love, love, love this jumpsuit. it's fun, fl...</td>\n",
              "      <td>5</td>\n",
              "      <td>1</td>\n",
              "      <td>0</td>\n",
              "      <td>General Petite</td>\n",
              "      <td>Bottoms</td>\n",
              "      <td>Pants</td>\n",
              "      <td>good</td>\n",
              "    </tr>\n",
              "    <tr>\n",
              "      <th>4</th>\n",
              "      <td>847</td>\n",
              "      <td>47</td>\n",
              "      <td>Flattering shirt</td>\n",
              "      <td>This shirt is very flattering to all due to th...</td>\n",
              "      <td>5</td>\n",
              "      <td>1</td>\n",
              "      <td>6</td>\n",
              "      <td>General</td>\n",
              "      <td>Tops</td>\n",
              "      <td>Blouses</td>\n",
              "      <td>good</td>\n",
              "    </tr>\n",
              "  </tbody>\n",
              "</table>\n",
              "</div>"
            ],
            "text/plain": [
              "   Clothing_Id  Age                    Title  \\\n",
              "0          767   33                      NaN   \n",
              "1         1080   34                      NaN   \n",
              "2         1077   60  Some major design flaws   \n",
              "3         1049   50         My favorite buy!   \n",
              "4          847   47         Flattering shirt   \n",
              "\n",
              "                                         Review_Text  Rating  Recommended_IND  \\\n",
              "0  Absolutely wonderful - silky and sexy and comf...       4                1   \n",
              "1  Love this dress!  it's sooo pretty.  i happene...       5                1   \n",
              "2  I had such high hopes for this dress and reall...       3                0   \n",
              "3  I love, love, love this jumpsuit. it's fun, fl...       5                1   \n",
              "4  This shirt is very flattering to all due to th...       5                1   \n",
              "\n",
              "   Positive_Feedback_Count   Division_Name Department_Name Class_Name class  \n",
              "0                        0       Initmates        Intimate  Intimates  good  \n",
              "1                        4         General         Dresses    Dresses  good  \n",
              "2                        0         General         Dresses    Dresses   bad  \n",
              "3                        0  General Petite         Bottoms      Pants  good  \n",
              "4                        6         General            Tops    Blouses  good  "
            ]
          },
          "metadata": {
            "tags": []
          },
          "execution_count": 13
        }
      ]
    },
    {
      "cell_type": "code",
      "metadata": {
        "colab": {
          "base_uri": "https://localhost:8080/",
          "height": 293
        },
        "id": "47j-W9A1XQOm",
        "outputId": "130c5c7c-879f-4cae-dd28-feec2840e7ce"
      },
      "source": [
        "Edata[(Edata.Clothing_Id==1095)].groupby(['Rating'])['Rating'].count().plot(kind='bar')"
      ],
      "execution_count": null,
      "outputs": [
        {
          "output_type": "execute_result",
          "data": {
            "text/plain": [
              "<matplotlib.axes._subplots.AxesSubplot at 0x114bbd090>"
            ]
          },
          "metadata": {
            "tags": []
          },
          "execution_count": 14
        },
        {
          "output_type": "display_data",
          "data": {
            "image/png": "[encoded data removed]",
            "text/plain": [
              "<Figure size 432x288 with 1 Axes>"
            ]
          },
          "metadata": {
            "tags": [],
            "needs_background": "light"
          }
        }
      ]
    },
    {
      "cell_type": "code",
      "metadata": {
        "colab": {
          "base_uri": "https://localhost:8080/",
          "height": 204
        },
        "id": "Pl7oEvzxXQOp",
        "outputId": "bae042aa-5d0c-4f5c-fd80-da7698185286"
      },
      "source": [
        "Edata.corr()"
      ],
      "execution_count": null,
      "outputs": [
        {
          "output_type": "execute_result",
          "data": {
            "text/html": [
              "<div>\n",
              "<style scoped>\n",
              "    .dataframe tbody tr th:only-of-type {\n",
              "        vertical-align: middle;\n",
              "    }\n",
              "\n",
              "    .dataframe tbody tr th {\n",
              "        vertical-align: top;\n",
              "    }\n",
              "\n",
              "    .dataframe thead th {\n",
              "        text-align: right;\n",
              "    }\n",
              "</style>\n",
              "<table border=\"1\" class=\"dataframe\">\n",
              "  <thead>\n",
              "    <tr style=\"text-align: right;\">\n",
              "      <th></th>\n",
              "      <th>Clothing_Id</th>\n",
              "      <th>Age</th>\n",
              "      <th>Rating</th>\n",
              "      <th>Recommended_IND</th>\n",
              "      <th>Positive_Feedback_Count</th>\n",
              "    </tr>\n",
              "  </thead>\n",
              "  <tbody>\n",
              "    <tr>\n",
              "      <th>Clothing_Id</th>\n",
              "      <td>1.000000</td>\n",
              "      <td>0.017972</td>\n",
              "      <td>-0.018879</td>\n",
              "      <td>-0.016206</td>\n",
              "      <td>0.046356</td>\n",
              "    </tr>\n",
              "    <tr>\n",
              "      <th>Age</th>\n",
              "      <td>0.017972</td>\n",
              "      <td>1.000000</td>\n",
              "      <td>0.026831</td>\n",
              "      <td>0.030622</td>\n",
              "      <td>0.043079</td>\n",
              "    </tr>\n",
              "    <tr>\n",
              "      <th>Rating</th>\n",
              "      <td>-0.018879</td>\n",
              "      <td>0.026831</td>\n",
              "      <td>1.000000</td>\n",
              "      <td>0.792336</td>\n",
              "      <td>-0.064961</td>\n",
              "    </tr>\n",
              "    <tr>\n",
              "      <th>Recommended_IND</th>\n",
              "      <td>-0.016206</td>\n",
              "      <td>0.030622</td>\n",
              "      <td>0.792336</td>\n",
              "      <td>1.000000</td>\n",
              "      <td>-0.069045</td>\n",
              "    </tr>\n",
              "    <tr>\n",
              "      <th>Positive_Feedback_Count</th>\n",
              "      <td>0.046356</td>\n",
              "      <td>0.043079</td>\n",
              "      <td>-0.064961</td>\n",
              "      <td>-0.069045</td>\n",
              "      <td>1.000000</td>\n",
              "    </tr>\n",
              "  </tbody>\n",
              "</table>\n",
              "</div>"
            ],
            "text/plain": [
              "                         Clothing_Id       Age    Rating  Recommended_IND  \\\n",
              "Clothing_Id                 1.000000  0.017972 -0.018879        -0.016206   \n",
              "Age                         0.017972  1.000000  0.026831         0.030622   \n",
              "Rating                     -0.018879  0.026831  1.000000         0.792336   \n",
              "Recommended_IND            -0.016206  0.030622  0.792336         1.000000   \n",
              "Positive_Feedback_Count     0.046356  0.043079 -0.064961        -0.069045   \n",
              "\n",
              "                         Positive_Feedback_Count  \n",
              "Clothing_Id                             0.046356  \n",
              "Age                                     0.043079  \n",
              "Rating                                 -0.064961  \n",
              "Recommended_IND                        -0.069045  \n",
              "Positive_Feedback_Count                 1.000000  "
            ]
          },
          "metadata": {
            "tags": []
          },
          "execution_count": 15
        }
      ]
    },
    {
      "cell_type": "code",
      "metadata": {
        "colab": {
          "base_uri": "https://localhost:8080/",
          "height": 402
        },
        "id": "YJ8tSTCVXQOr",
        "outputId": "b222a397-d375-4ca2-cd32-518fc00b88ee"
      },
      "source": [
        "sns.heatmap(Edata.corr())"
      ],
      "execution_count": null,
      "outputs": [
        {
          "output_type": "execute_result",
          "data": {
            "text/plain": [
              "<matplotlib.axes._subplots.AxesSubplot at 0x1a17b4b690>"
            ]
          },
          "metadata": {
            "tags": []
          },
          "execution_count": 16
        },
        {
          "output_type": "display_data",
          "data": {
            "image/png": "[encoded data removed]",
            "text/plain": [
              "<Figure size 432x288 with 2 Axes>"
            ]
          },
          "metadata": {
            "tags": [],
            "needs_background": "light"
          }
        }
      ]
    },
    {
      "cell_type": "code",
      "metadata": {
        "colab": {
          "base_uri": "https://localhost:8080/",
          "height": 374
        },
        "id": "rK4KyXM-zvOs",
        "outputId": "7bd439ce-b9e0-4254-f2c5-bd445fda0401"
      },
      "source": [
        "import warnings\n",
        "warnings.filterwarnings('ignore')\n",
        "Edata.dropna(inplace=True)\n",
        "Edata.reset_index(drop=True, inplace=True)\n",
        "import re\n",
        "for i in range(len(Edata)):\n",
        "    #print(i)\n",
        "    Edata['Review_Text'][i] = Edata['Review_Text'][i].replace(\"'s\", \" is\").replace(\"'ll\", \" will\").replace(\"'ve\", \" have\").replace(\"'m\", \" am\").replace(\"\\'\", \"'\")\n",
        "    \n",
        "Edata['Review_Text'][1]\n",
        "\n",
        "Edata.head()"
      ],
      "execution_count": null,
      "outputs": [
        {
          "output_type": "execute_result",
          "data": {
            "text/html": [
              "<div>\n",
              "<style scoped>\n",
              "    .dataframe tbody tr th:only-of-type {\n",
              "        vertical-align: middle;\n",
              "    }\n",
              "\n",
              "    .dataframe tbody tr th {\n",
              "        vertical-align: top;\n",
              "    }\n",
              "\n",
              "    .dataframe thead th {\n",
              "        text-align: right;\n",
              "    }\n",
              "</style>\n",
              "<table border=\"1\" class=\"dataframe\">\n",
              "  <thead>\n",
              "    <tr style=\"text-align: right;\">\n",
              "      <th></th>\n",
              "      <th>Clothing_Id</th>\n",
              "      <th>Age</th>\n",
              "      <th>Title</th>\n",
              "      <th>Review_Text</th>\n",
              "      <th>Rating</th>\n",
              "      <th>Recommended_IND</th>\n",
              "      <th>Positive_Feedback_Count</th>\n",
              "      <th>Division_Name</th>\n",
              "      <th>Department_Name</th>\n",
              "      <th>Class_Name</th>\n",
              "      <th>class</th>\n",
              "    </tr>\n",
              "  </thead>\n",
              "  <tbody>\n",
              "    <tr>\n",
              "      <th>0</th>\n",
              "      <td>1077</td>\n",
              "      <td>60</td>\n",
              "      <td>Some major design flaws</td>\n",
              "      <td>I had such high hopes for this dress and reall...</td>\n",
              "      <td>3</td>\n",
              "      <td>0</td>\n",
              "      <td>0</td>\n",
              "      <td>General</td>\n",
              "      <td>Dresses</td>\n",
              "      <td>Dresses</td>\n",
              "      <td>bad</td>\n",
              "    </tr>\n",
              "    <tr>\n",
              "      <th>1</th>\n",
              "      <td>1049</td>\n",
              "      <td>50</td>\n",
              "      <td>My favorite buy!</td>\n",
              "      <td>I love, love, love this jumpsuit. it is fun, f...</td>\n",
              "      <td>5</td>\n",
              "      <td>1</td>\n",
              "      <td>0</td>\n",
              "      <td>General Petite</td>\n",
              "      <td>Bottoms</td>\n",
              "      <td>Pants</td>\n",
              "      <td>good</td>\n",
              "    </tr>\n",
              "    <tr>\n",
              "      <th>2</th>\n",
              "      <td>847</td>\n",
              "      <td>47</td>\n",
              "      <td>Flattering shirt</td>\n",
              "      <td>This shirt is very flattering to all due to th...</td>\n",
              "      <td>5</td>\n",
              "      <td>1</td>\n",
              "      <td>6</td>\n",
              "      <td>General</td>\n",
              "      <td>Tops</td>\n",
              "      <td>Blouses</td>\n",
              "      <td>good</td>\n",
              "    </tr>\n",
              "    <tr>\n",
              "      <th>3</th>\n",
              "      <td>1080</td>\n",
              "      <td>49</td>\n",
              "      <td>Not for the very petite</td>\n",
              "      <td>I love tracy reese dresses, but this one is no...</td>\n",
              "      <td>2</td>\n",
              "      <td>0</td>\n",
              "      <td>4</td>\n",
              "      <td>General</td>\n",
              "      <td>Dresses</td>\n",
              "      <td>Dresses</td>\n",
              "      <td>bad</td>\n",
              "    </tr>\n",
              "    <tr>\n",
              "      <th>4</th>\n",
              "      <td>858</td>\n",
              "      <td>39</td>\n",
              "      <td>Cagrcoal shimmer fun</td>\n",
              "      <td>I aded this in my basket at hte last mintue to...</td>\n",
              "      <td>5</td>\n",
              "      <td>1</td>\n",
              "      <td>1</td>\n",
              "      <td>General Petite</td>\n",
              "      <td>Tops</td>\n",
              "      <td>Knits</td>\n",
              "      <td>good</td>\n",
              "    </tr>\n",
              "  </tbody>\n",
              "</table>\n",
              "</div>"
            ],
            "text/plain": [
              "   Clothing_Id  Age                    Title  \\\n",
              "0         1077   60  Some major design flaws   \n",
              "1         1049   50         My favorite buy!   \n",
              "2          847   47         Flattering shirt   \n",
              "3         1080   49  Not for the very petite   \n",
              "4          858   39     Cagrcoal shimmer fun   \n",
              "\n",
              "                                         Review_Text  Rating  Recommended_IND  \\\n",
              "0  I had such high hopes for this dress and reall...       3                0   \n",
              "1  I love, love, love this jumpsuit. it is fun, f...       5                1   \n",
              "2  This shirt is very flattering to all due to th...       5                1   \n",
              "3  I love tracy reese dresses, but this one is no...       2                0   \n",
              "4  I aded this in my basket at hte last mintue to...       5                1   \n",
              "\n",
              "   Positive_Feedback_Count   Division_Name Department_Name Class_Name class  \n",
              "0                        0         General         Dresses    Dresses   bad  \n",
              "1                        0  General Petite         Bottoms      Pants  good  \n",
              "2                        6         General            Tops    Blouses  good  \n",
              "3                        4         General         Dresses    Dresses   bad  \n",
              "4                        1  General Petite            Tops      Knits  good  "
            ]
          },
          "metadata": {
            "tags": []
          },
          "execution_count": 17
        }
      ]
    },
    {
      "cell_type": "code",
      "metadata": {
        "id": "_0sqmGXdIFZh"
      },
      "source": [
        "import nltk\n",
        "import en_core_web_sm\n",
        "import spacy\n",
        "nlp = spacy.load(\"en_core_web_sm\")\n",
        "from nltk.corpus import stopwords\n",
        "def lemmatization(Edata):\n",
        "    Edata[\"Lemmas\"] = [\" \".join([token.lemma_ if token.lemma_ != \"-PRON-\" \n",
        "    else token.text.lower() for sentence in nlp(speech).sents \n",
        "    for token in sentence if token.pos_ in {\"NOUN\", \"VERB\", \"ADJ\", \"ADV\", \"X\"} \n",
        "    and token.is_stop == False]) for speech in Edata.text]\n",
        "\n",
        "    \n",
        "Edata[\"Lemmas\"] = [\" \".join([token.lemma_ if token.lemma_ != \"-PRON-\" \n",
        "                else token.text.lower() for sentence in \n",
        "                nlp(speech).sents for token in sentence if \n",
        "                token.pos_ in {\"NOUN\", \"VERB\", \"ADJ\", \"ADV\", \"X\"} \n",
        "                and token.is_stop == False]) for speech in \n",
        "                Edata['Review_Text']]\n",
        "Edata.head()"
      ],
      "execution_count": null,
      "outputs": []
    },
    {
      "cell_type": "code",
      "metadata": {
        "colab": {
          "base_uri": "https://localhost:8080/",
          "height": 51
        },
        "id": "Jt9gkKaXXQO0",
        "outputId": "356c0045-9022-41c8-a3e6-08c3ec3aecdc"
      },
      "source": [
        "import nltk\n",
        "nltk.download('vader_lexicon')\n"
      ],
      "execution_count": null,
      "outputs": [
        {
          "output_type": "stream",
          "text": [
            "[nltk_data] Downloading package vader_lexicon to\n",
            "[nltk_data]     /Users/vivekbhadula/nltk_data...\n",
            "[nltk_data]   Package vader_lexicon is already up-to-date!\n"
          ],
          "name": "stderr"
        },
        {
          "output_type": "execute_result",
          "data": {
            "text/plain": [
              "True"
            ]
          },
          "metadata": {
            "tags": []
          },
          "execution_count": 19
        }
      ]
    },
    {
      "cell_type": "code",
      "metadata": {
        "colab": {
          "base_uri": "https://localhost:8080/",
          "height": 629
        },
        "id": "sPY5vCpbLEWR",
        "outputId": "8019e3a4-5409-41ac-bb27-553b8345694e"
      },
      "source": [
        "from nltk.sentiment.vader import SentimentIntensityAnalyzer\n",
        "sid = SentimentIntensityAnalyzer()\n",
        "sentiment=[]\n",
        "\n",
        "for i in range(len(Edata)):\n",
        "    ss = sid.polarity_scores(Edata.Lemmas[i])\n",
        "    sentiment.append(ss)\n",
        "    \n",
        "compound=[sentiment[i]['compound'] for i in range(len(sentiment))]\n",
        "Edata['compound']=compound\n",
        "Edata.head()"
      ],
      "execution_count": null,
      "outputs": [
        {
          "output_type": "execute_result",
          "data": {
            "text/html": [
              "<div>\n",
              "<style scoped>\n",
              "    .dataframe tbody tr th:only-of-type {\n",
              "        vertical-align: middle;\n",
              "    }\n",
              "\n",
              "    .dataframe tbody tr th {\n",
              "        vertical-align: top;\n",
              "    }\n",
              "\n",
              "    .dataframe thead th {\n",
              "        text-align: right;\n",
              "    }\n",
              "</style>\n",
              "<table border=\"1\" class=\"dataframe\">\n",
              "  <thead>\n",
              "    <tr style=\"text-align: right;\">\n",
              "      <th></th>\n",
              "      <th>Clothing_Id</th>\n",
              "      <th>Age</th>\n",
              "      <th>Title</th>\n",
              "      <th>Review_Text</th>\n",
              "      <th>Rating</th>\n",
              "      <th>Recommended_IND</th>\n",
              "      <th>Positive_Feedback_Count</th>\n",
              "      <th>Division_Name</th>\n",
              "      <th>Department_Name</th>\n",
              "      <th>Class_Name</th>\n",
              "      <th>class</th>\n",
              "      <th>Lemmas</th>\n",
              "      <th>compound</th>\n",
              "    </tr>\n",
              "  </thead>\n",
              "  <tbody>\n",
              "    <tr>\n",
              "      <th>0</th>\n",
              "      <td>1077</td>\n",
              "      <td>60</td>\n",
              "      <td>Some major design flaws</td>\n",
              "      <td>I had such high hopes for this dress and reall...</td>\n",
              "      <td>3</td>\n",
              "      <td>0</td>\n",
              "      <td>0</td>\n",
              "      <td>General</td>\n",
              "      <td>Dresses</td>\n",
              "      <td>Dresses</td>\n",
              "      <td>bad</td>\n",
              "      <td>high hope dress want work initially order peti...</td>\n",
              "      <td>0.8979</td>\n",
              "    </tr>\n",
              "    <tr>\n",
              "      <th>1</th>\n",
              "      <td>1049</td>\n",
              "      <td>50</td>\n",
              "      <td>My favorite buy!</td>\n",
              "      <td>I love, love, love this jumpsuit. it is fun, f...</td>\n",
              "      <td>5</td>\n",
              "      <td>1</td>\n",
              "      <td>0</td>\n",
              "      <td>General Petite</td>\n",
              "      <td>Bottoms</td>\n",
              "      <td>Pants</td>\n",
              "      <td>good</td>\n",
              "      <td>love love love jumpsuit fun flirty fabulous ti...</td>\n",
              "      <td>0.9819</td>\n",
              "    </tr>\n",
              "    <tr>\n",
              "      <th>2</th>\n",
              "      <td>847</td>\n",
              "      <td>47</td>\n",
              "      <td>Flattering shirt</td>\n",
              "      <td>This shirt is very flattering to all due to th...</td>\n",
              "      <td>5</td>\n",
              "      <td>1</td>\n",
              "      <td>6</td>\n",
              "      <td>General</td>\n",
              "      <td>Tops</td>\n",
              "      <td>Blouses</td>\n",
              "      <td>good</td>\n",
              "      <td>shirt flattering adjustable tie perfect length...</td>\n",
              "      <td>0.8807</td>\n",
              "    </tr>\n",
              "    <tr>\n",
              "      <th>3</th>\n",
              "      <td>1080</td>\n",
              "      <td>49</td>\n",
              "      <td>Not for the very petite</td>\n",
              "      <td>I love tracy reese dresses, but this one is no...</td>\n",
              "      <td>2</td>\n",
              "      <td>0</td>\n",
              "      <td>4</td>\n",
              "      <td>General</td>\n",
              "      <td>Dresses</td>\n",
              "      <td>Dresses</td>\n",
              "      <td>bad</td>\n",
              "      <td>love tracy reese dress foot tall usually wear ...</td>\n",
              "      <td>0.8979</td>\n",
              "    </tr>\n",
              "    <tr>\n",
              "      <th>4</th>\n",
              "      <td>858</td>\n",
              "      <td>39</td>\n",
              "      <td>Cagrcoal shimmer fun</td>\n",
              "      <td>I aded this in my basket at hte last mintue to...</td>\n",
              "      <td>5</td>\n",
              "      <td>1</td>\n",
              "      <td>1</td>\n",
              "      <td>General Petite</td>\n",
              "      <td>Tops</td>\n",
              "      <td>Knits</td>\n",
              "      <td>good</td>\n",
              "      <td>ade basket mintue look person store pick go da...</td>\n",
              "      <td>0.6124</td>\n",
              "    </tr>\n",
              "  </tbody>\n",
              "</table>\n",
              "</div>"
            ],
            "text/plain": [
              "   Clothing_Id  Age                    Title  \\\n",
              "0         1077   60  Some major design flaws   \n",
              "1         1049   50         My favorite buy!   \n",
              "2          847   47         Flattering shirt   \n",
              "3         1080   49  Not for the very petite   \n",
              "4          858   39     Cagrcoal shimmer fun   \n",
              "\n",
              "                                         Review_Text  Rating  Recommended_IND  \\\n",
              "0  I had such high hopes for this dress and reall...       3                0   \n",
              "1  I love, love, love this jumpsuit. it is fun, f...       5                1   \n",
              "2  This shirt is very flattering to all due to th...       5                1   \n",
              "3  I love tracy reese dresses, but this one is no...       2                0   \n",
              "4  I aded this in my basket at hte last mintue to...       5                1   \n",
              "\n",
              "   Positive_Feedback_Count   Division_Name Department_Name Class_Name class  \\\n",
              "0                        0         General         Dresses    Dresses   bad   \n",
              "1                        0  General Petite         Bottoms      Pants  good   \n",
              "2                        6         General            Tops    Blouses  good   \n",
              "3                        4         General         Dresses    Dresses   bad   \n",
              "4                        1  General Petite            Tops      Knits  good   \n",
              "\n",
              "                                              Lemmas  compound  \n",
              "0  high hope dress want work initially order peti...    0.8979  \n",
              "1  love love love jumpsuit fun flirty fabulous ti...    0.9819  \n",
              "2  shirt flattering adjustable tie perfect length...    0.8807  \n",
              "3  love tracy reese dress foot tall usually wear ...    0.8979  \n",
              "4  ade basket mintue look person store pick go da...    0.6124  "
            ]
          },
          "metadata": {
            "tags": []
          },
          "execution_count": 20
        }
      ]
    },
    {
      "cell_type": "code",
      "metadata": {
        "colab": {
          "base_uri": "https://localhost:8080/",
          "height": 649
        },
        "id": "1rbH9zLPgdHQ",
        "outputId": "93093aa3-e52f-4f2e-a50b-ebb4a72e9bf4"
      },
      "source": [
        "sent=[]\n",
        "for i in compound:\n",
        "    if i<0:\n",
        "        sent.append('negative')\n",
        "    else:\n",
        "        sent.append('positive')\n",
        "Edata['sentiment']=sent\n",
        "Edata.head()"
      ],
      "execution_count": null,
      "outputs": [
        {
          "output_type": "execute_result",
          "data": {
            "text/html": [
              "<div>\n",
              "<style scoped>\n",
              "    .dataframe tbody tr th:only-of-type {\n",
              "        vertical-align: middle;\n",
              "    }\n",
              "\n",
              "    .dataframe tbody tr th {\n",
              "        vertical-align: top;\n",
              "    }\n",
              "\n",
              "    .dataframe thead th {\n",
              "        text-align: right;\n",
              "    }\n",
              "</style>\n",
              "<table border=\"1\" class=\"dataframe\">\n",
              "  <thead>\n",
              "    <tr style=\"text-align: right;\">\n",
              "      <th></th>\n",
              "      <th>Clothing_Id</th>\n",
              "      <th>Age</th>\n",
              "      <th>Title</th>\n",
              "      <th>Review_Text</th>\n",
              "      <th>Rating</th>\n",
              "      <th>Recommended_IND</th>\n",
              "      <th>Positive_Feedback_Count</th>\n",
              "      <th>Division_Name</th>\n",
              "      <th>Department_Name</th>\n",
              "      <th>Class_Name</th>\n",
              "      <th>class</th>\n",
              "      <th>Lemmas</th>\n",
              "      <th>compound</th>\n",
              "      <th>sentiment</th>\n",
              "    </tr>\n",
              "  </thead>\n",
              "  <tbody>\n",
              "    <tr>\n",
              "      <th>0</th>\n",
              "      <td>1077</td>\n",
              "      <td>60</td>\n",
              "      <td>Some major design flaws</td>\n",
              "      <td>I had such high hopes for this dress and reall...</td>\n",
              "      <td>3</td>\n",
              "      <td>0</td>\n",
              "      <td>0</td>\n",
              "      <td>General</td>\n",
              "      <td>Dresses</td>\n",
              "      <td>Dresses</td>\n",
              "      <td>bad</td>\n",
              "      <td>high hope dress want work initially order peti...</td>\n",
              "      <td>0.8979</td>\n",
              "      <td>positive</td>\n",
              "    </tr>\n",
              "    <tr>\n",
              "      <th>1</th>\n",
              "      <td>1049</td>\n",
              "      <td>50</td>\n",
              "      <td>My favorite buy!</td>\n",
              "      <td>I love, love, love this jumpsuit. it is fun, f...</td>\n",
              "      <td>5</td>\n",
              "      <td>1</td>\n",
              "      <td>0</td>\n",
              "      <td>General Petite</td>\n",
              "      <td>Bottoms</td>\n",
              "      <td>Pants</td>\n",
              "      <td>good</td>\n",
              "      <td>love love love jumpsuit fun flirty fabulous ti...</td>\n",
              "      <td>0.9819</td>\n",
              "      <td>positive</td>\n",
              "    </tr>\n",
              "    <tr>\n",
              "      <th>2</th>\n",
              "      <td>847</td>\n",
              "      <td>47</td>\n",
              "      <td>Flattering shirt</td>\n",
              "      <td>This shirt is very flattering to all due to th...</td>\n",
              "      <td>5</td>\n",
              "      <td>1</td>\n",
              "      <td>6</td>\n",
              "      <td>General</td>\n",
              "      <td>Tops</td>\n",
              "      <td>Blouses</td>\n",
              "      <td>good</td>\n",
              "      <td>shirt flattering adjustable tie perfect length...</td>\n",
              "      <td>0.8807</td>\n",
              "      <td>positive</td>\n",
              "    </tr>\n",
              "    <tr>\n",
              "      <th>3</th>\n",
              "      <td>1080</td>\n",
              "      <td>49</td>\n",
              "      <td>Not for the very petite</td>\n",
              "      <td>I love tracy reese dresses, but this one is no...</td>\n",
              "      <td>2</td>\n",
              "      <td>0</td>\n",
              "      <td>4</td>\n",
              "      <td>General</td>\n",
              "      <td>Dresses</td>\n",
              "      <td>Dresses</td>\n",
              "      <td>bad</td>\n",
              "      <td>love tracy reese dress foot tall usually wear ...</td>\n",
              "      <td>0.8979</td>\n",
              "      <td>positive</td>\n",
              "    </tr>\n",
              "    <tr>\n",
              "      <th>4</th>\n",
              "      <td>858</td>\n",
              "      <td>39</td>\n",
              "      <td>Cagrcoal shimmer fun</td>\n",
              "      <td>I aded this in my basket at hte last mintue to...</td>\n",
              "      <td>5</td>\n",
              "      <td>1</td>\n",
              "      <td>1</td>\n",
              "      <td>General Petite</td>\n",
              "      <td>Tops</td>\n",
              "      <td>Knits</td>\n",
              "      <td>good</td>\n",
              "      <td>ade basket mintue look person store pick go da...</td>\n",
              "      <td>0.6124</td>\n",
              "      <td>positive</td>\n",
              "    </tr>\n",
              "  </tbody>\n",
              "</table>\n",
              "</div>"
            ],
            "text/plain": [
              "   Clothing_Id  Age                    Title  \\\n",
              "0         1077   60  Some major design flaws   \n",
              "1         1049   50         My favorite buy!   \n",
              "2          847   47         Flattering shirt   \n",
              "3         1080   49  Not for the very petite   \n",
              "4          858   39     Cagrcoal shimmer fun   \n",
              "\n",
              "                                         Review_Text  Rating  Recommended_IND  \\\n",
              "0  I had such high hopes for this dress and reall...       3                0   \n",
              "1  I love, love, love this jumpsuit. it is fun, f...       5                1   \n",
              "2  This shirt is very flattering to all due to th...       5                1   \n",
              "3  I love tracy reese dresses, but this one is no...       2                0   \n",
              "4  I aded this in my basket at hte last mintue to...       5                1   \n",
              "\n",
              "   Positive_Feedback_Count   Division_Name Department_Name Class_Name class  \\\n",
              "0                        0         General         Dresses    Dresses   bad   \n",
              "1                        0  General Petite         Bottoms      Pants  good   \n",
              "2                        6         General            Tops    Blouses  good   \n",
              "3                        4         General         Dresses    Dresses   bad   \n",
              "4                        1  General Petite            Tops      Knits  good   \n",
              "\n",
              "                                              Lemmas  compound sentiment  \n",
              "0  high hope dress want work initially order peti...    0.8979  positive  \n",
              "1  love love love jumpsuit fun flirty fabulous ti...    0.9819  positive  \n",
              "2  shirt flattering adjustable tie perfect length...    0.8807  positive  \n",
              "3  love tracy reese dress foot tall usually wear ...    0.8979  positive  \n",
              "4  ade basket mintue look person store pick go da...    0.6124  positive  "
            ]
          },
          "metadata": {
            "tags": []
          },
          "execution_count": 21
        }
      ]
    },
    {
      "cell_type": "code",
      "metadata": {
        "colab": {
          "base_uri": "https://localhost:8080/",
          "height": 51
        },
        "id": "dvl74c9157zN",
        "outputId": "ecabba88-ad1b-455d-f793-8977d9007f1f"
      },
      "source": [
        "import numpy as np\n",
        "mat = np.zeros(4).reshape(2,2)\n",
        "true_neg=0\n",
        "true_pos=0\n",
        "false_neg=0\n",
        "false_pos=0\n",
        "for i in range(len(Edata)):\n",
        "    if Edata['sentiment'][i]=='negative' and Edata['Recommended_IND'][i]==0:\n",
        "        true_neg+=1\n",
        "    elif Edata['sentiment'][i]=='positive' and Edata['Recommended_IND'][i]==1:\n",
        "        true_pos+=1\n",
        "    elif Edata['sentiment'][i]=='positive' and Edata['Recommended_IND'][i]==0:\n",
        "        false_neg+=1\n",
        "    elif Edata['sentiment'][i]=='negative' and Edata['Recommended_IND'][i]==1:\n",
        "        false_pos+=1\n",
        "    \n",
        "mat[0][0]=true_neg\n",
        "mat[0][1]=false_neg\n",
        "mat[1][0]=false_pos\n",
        "mat[1][1]=true_pos\n",
        "mat"
      ],
      "execution_count": null,
      "outputs": [
        {
          "output_type": "execute_result",
          "data": {
            "text/plain": [
              "array([[  421.,  3154.],\n",
              "       [  227., 15860.]])"
            ]
          },
          "metadata": {
            "tags": []
          },
          "execution_count": 22
        }
      ]
    },
    {
      "cell_type": "code",
      "metadata": {
        "colab": {
          "base_uri": "https://localhost:8080/",
          "height": 111
        },
        "id": "_t_HUwen6EjT",
        "outputId": "c003ac6e-16d2-4197-ba27-4cfa54df72d7"
      },
      "source": [
        "from pandas import DataFrame\n",
        "Index= ['Not Recommended', 'Recommended']\n",
        "Cols = ['Negative', 'Positive']\n",
        "d = DataFrame(mat, index=Index, columns=Cols)\n",
        "d.head()"
      ],
      "execution_count": null,
      "outputs": [
        {
          "output_type": "execute_result",
          "data": {
            "text/html": [
              "<div>\n",
              "<style scoped>\n",
              "    .dataframe tbody tr th:only-of-type {\n",
              "        vertical-align: middle;\n",
              "    }\n",
              "\n",
              "    .dataframe tbody tr th {\n",
              "        vertical-align: top;\n",
              "    }\n",
              "\n",
              "    .dataframe thead th {\n",
              "        text-align: right;\n",
              "    }\n",
              "</style>\n",
              "<table border=\"1\" class=\"dataframe\">\n",
              "  <thead>\n",
              "    <tr style=\"text-align: right;\">\n",
              "      <th></th>\n",
              "      <th>Negative</th>\n",
              "      <th>Positive</th>\n",
              "    </tr>\n",
              "  </thead>\n",
              "  <tbody>\n",
              "    <tr>\n",
              "      <th>Not Recommended</th>\n",
              "      <td>421.0</td>\n",
              "      <td>3154.0</td>\n",
              "    </tr>\n",
              "    <tr>\n",
              "      <th>Recommended</th>\n",
              "      <td>227.0</td>\n",
              "      <td>15860.0</td>\n",
              "    </tr>\n",
              "  </tbody>\n",
              "</table>\n",
              "</div>"
            ],
            "text/plain": [
              "                 Negative  Positive\n",
              "Not Recommended     421.0    3154.0\n",
              "Recommended         227.0   15860.0"
            ]
          },
          "metadata": {
            "tags": []
          },
          "execution_count": 23
        }
      ]
    },
    {
      "cell_type": "code",
      "metadata": {
        "id": "HtrH6qHKSrId",
        "outputId": "8929b2d9-72c7-48db-f071-98279446a6ff"
      },
      "source": [
        "import tensorflow as tf\n",
        "from tensorflow import keras\n",
        "print(tf.__version__)"
      ],
      "execution_count": null,
      "outputs": [
        {
          "output_type": "stream",
          "text": [
            "2.2.0\n"
          ],
          "name": "stdout"
        }
      ]
    },
    {
      "cell_type": "code",
      "metadata": {
        "id": "7ZJn6pB6SrIe"
      },
      "source": [
        "NUM_WORDS = 1000\n",
        "(train_data, train_labels), (test_data, test_labels) = keras.datasets.imdb.load_data(num_words = NUM_WORDS)\n",
        "def multi_hot_sequences(sequences,dimension):\n",
        "    results = np.zeros((len(sequences), dimension))\n",
        "    for i, word_indices in enumerate(sequences):\n",
        "        results[i, word_indices] = 1.0\n",
        "    return results\n",
        "\n",
        "train_data = multi_hot_sequences(train_data, dimension=NUM_WORDS)\n",
        "test_data = multi_hot_sequences(test_data, dimension=NUM_WORDS)"
      ],
      "execution_count": null,
      "outputs": []
    },
    {
      "cell_type": "code",
      "metadata": {
        "id": "A4-z5ItrSrIf",
        "outputId": "3b41fa6c-3229-4336-b2ae-c58440ee60b1"
      },
      "source": [
        "plt.plot(train_data[0])"
      ],
      "execution_count": null,
      "outputs": [
        {
          "output_type": "execute_result",
          "data": {
            "text/plain": [
              "[<matplotlib.lines.Line2D at 0x1a5890d110>]"
            ]
          },
          "metadata": {
            "tags": []
          },
          "execution_count": 39
        },
        {
          "output_type": "display_data",
          "data": {
            "image/png": "[encoded data removed]",
            "text/plain": [
              "<Figure size 432x288 with 1 Axes>"
            ]
          },
          "metadata": {
            "tags": [],
            "needs_background": "light"
          }
        }
      ]
    },
    {
      "cell_type": "code",
      "metadata": {
        "id": "nvnMwdO3SrIf",
        "outputId": "17617f5e-4d75-44b6-d45a-7cf214633989"
      },
      "source": [
        "vocab_size = 1000\n",
        "model = keras.Sequential()\n",
        "model.add(keras.layers.Embedding(vocab_size, 64))\n",
        "model.add(keras.layers.GlobalAveragePooling1D())\n",
        "model.add(keras.layers.Dense(64, activation = tf.nn.relu))\n",
        "model.add(keras.layers.Dense(1, activation = tf.nn.sigmoid))\n",
        "model.summary()"
      ],
      "execution_count": null,
      "outputs": [
        {
          "output_type": "stream",
          "text": [
            "WARNING:tensorflow:From /Users/vivekbhadula/opt/anaconda3/lib/python3.7/site-packages/tensorflow/python/keras/initializers.py:119: calling RandomUniform.__init__ (from tensorflow.python.ops.init_ops) with dtype is deprecated and will be removed in a future version.\n",
            "Instructions for updating:\n",
            "Call initializer instance with the dtype argument instead of passing it to the constructor\n",
            "Model: \"sequential_1\"\n",
            "_________________________________________________________________\n",
            "Layer (type)                 Output Shape              Param #   \n",
            "=================================================================\n",
            "embedding_1 (Embedding)      (None, None, 64)          64000     \n",
            "_________________________________________________________________\n",
            "global_average_pooling1d_1 ( (None, 64)                0         \n",
            "_________________________________________________________________\n",
            "dense_2 (Dense)              (None, 64)                4160      \n",
            "_________________________________________________________________\n",
            "dense_3 (Dense)              (None, 1)                 65        \n",
            "=================================================================\n",
            "Total params: 68,225\n",
            "Trainable params: 68,225\n",
            "Non-trainable params: 0\n",
            "_________________________________________________________________\n"
          ],
          "name": "stdout"
        }
      ]
    },
    {
      "cell_type": "code",
      "metadata": {
        "id": "Wqswchx4SrIf"
      },
      "source": [
        "import tensorflow.compat.v1 as tf\n",
        "tf.disable_v2_behavior()"
      ],
      "execution_count": null,
      "outputs": []
    },
    {
      "cell_type": "code",
      "metadata": {
        "id": "9BjDGP3GSrIf"
      },
      "source": [
        "tf.compat.v1.disable_resource_variables()"
      ],
      "execution_count": null,
      "outputs": []
    },
    {
      "cell_type": "code",
      "metadata": {
        "id": "bYa8jZ0USrIf"
      },
      "source": [
        "model.compile(optimizer=tf.train.AdamOptimizer(), loss='binary_crossentropy', metrics = ['accuracy'])"
      ],
      "execution_count": null,
      "outputs": []
    },
    {
      "cell_type": "code",
      "metadata": {
        "id": "BEMVKDANSrIf"
      },
      "source": [
        "x_val = train_data[:1000]\n",
        "partial_x_train = train_data[1000:]\n",
        "y_val = train_labels[:1000]\n",
        "partial_y_train = train_labels[1000:]"
      ],
      "execution_count": null,
      "outputs": []
    },
    {
      "cell_type": "code",
      "metadata": {
        "id": "IscVvw7VSrIf",
        "outputId": "add67040-42d6-4dae-fa1e-387aa8e77ff9"
      },
      "source": [
        "history = model.fit(partial_x_train, partial_y_train, epochs=10, batch_size=512, validation_data=(x_val, y_val), verbose=1)"
      ],
      "execution_count": null,
      "outputs": [
        {
          "output_type": "stream",
          "text": [
            "Train on 24000 samples, validate on 1000 samples\n",
            "Epoch 1/10\n",
            "24000/24000 [==============================] - 5s 195us/sample - loss: 0.6932 - acc: 0.4973 - val_loss: 0.6931 - val_acc: 0.5010\n",
            "Epoch 2/10\n",
            "24000/24000 [==============================] - 5s 192us/sample - loss: 0.6932 - acc: 0.5002 - val_loss: 0.6932 - val_acc: 0.4920\n",
            "Epoch 3/10\n",
            "24000/24000 [==============================] - 5s 191us/sample - loss: 0.6930 - acc: 0.5058 - val_loss: 0.6929 - val_acc: 0.5210\n",
            "Epoch 4/10\n",
            "24000/24000 [==============================] - 5s 194us/sample - loss: 0.6929 - acc: 0.5050 - val_loss: 0.6929 - val_acc: 0.5060\n",
            "Epoch 5/10\n",
            "24000/24000 [==============================] - 5s 196us/sample - loss: 0.6929 - acc: 0.5090 - val_loss: 0.6929 - val_acc: 0.5060\n",
            "Epoch 6/10\n",
            "24000/24000 [==============================] - 5s 196us/sample - loss: 0.6926 - acc: 0.5140 - val_loss: 0.6927 - val_acc: 0.5230\n",
            "Epoch 7/10\n",
            "24000/24000 [==============================] - 5s 197us/sample - loss: 0.6926 - acc: 0.5102 - val_loss: 0.6929 - val_acc: 0.4970\n",
            "Epoch 8/10\n",
            "24000/24000 [==============================] - 5s 198us/sample - loss: 0.6925 - acc: 0.5163 - val_loss: 0.6929 - val_acc: 0.4990\n",
            "Epoch 9/10\n",
            "24000/24000 [==============================] - 6s 270us/sample - loss: 0.6924 - acc: 0.5175 - val_loss: 0.6931 - val_acc: 0.4990\n",
            "Epoch 10/10\n",
            "24000/24000 [==============================] - 8s 329us/sample - loss: 0.6924 - acc: 0.5148 - val_loss: 0.6927 - val_acc: 0.5020\n"
          ],
          "name": "stdout"
        }
      ]
    },
    {
      "cell_type": "code",
      "metadata": {
        "id": "s6NlsPCQSrIg",
        "outputId": "87d032a3-7ba7-46fd-e6c0-641dbf774974"
      },
      "source": [
        "results = model.evaluate(test_data, test_labels)\n",
        "print(results)"
      ],
      "execution_count": null,
      "outputs": [
        {
          "output_type": "stream",
          "text": [
            "[0.6917610790252685, 0.52008]\n"
          ],
          "name": "stdout"
        }
      ]
    },
    {
      "cell_type": "code",
      "metadata": {
        "id": "hhK7S2XzSrIg",
        "outputId": "7826d204-2f3f-4bfe-ff5b-22a2c947dc3a"
      },
      "source": [
        "sns.set(rc={'figure.figsize':(13,6)})\n",
        "plt.hist(Edata.Age, bins=100)\n",
        "plt.xlabel('Age')\n",
        "plt.ylabel('Reviews')\n",
        "plt.title('Number of reviews per Age');"
      ],
      "execution_count": null,
      "outputs": [
        {
          "output_type": "display_data",
          "data": {
            "image/png": "[encoded data removed]",
            "text/plain": [
              "<Figure size 936x432 with 1 Axes>"
            ]
          },
          "metadata": {
            "tags": []
          }
        }
      ]
    }
  ]
}